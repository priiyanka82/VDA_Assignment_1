{
  "cells": [
    {
      "cell_type": "markdown",
      "metadata": {
        "id": "PZ4Cl_lYtnTv"
      },
      "source": [
        "<h1>EC704 VLSI Design Automation</h1>\n",
        "<h2>Assignment 1</h2>\n",
        "<h3>Submitted To:</h3>"
      ]
    },
    {
      "cell_type": "markdown",
      "metadata": {
        "id": "ocbfUWRFt9xe"
      },
      "source": [
        "<h3>Question</h3>\n",
        "<p>\n",
        "Given: An array of rectangles in the file test_data.txt.\n",
        "\n",
        "\n",
        "The following is the format of the representation of rectangle:\n",
        "\n",
        "{rectangle_id, left_bottom_corner_x_coordinate, left_bottom_corner_y_coordinate, right_top_corner_x_coordinate, right_top_corner_y_coordinate}. \n",
        "\n",
        "\n",
        "Develop python codes in modular fashion to perform the following functions:\n",
        "Read data corresponding to the rectangular objects from the file test_data.txt. Using matplotlib or any other suitable library plot the given objects in Jupyter IDE.\n",
        "\n",
        "Read the test data from a file \"test_data.txt\". Display the rectangle/s graphically in the Jupyter IDE. \n",
        "\n",
        "\n",
        "\n",
        "Problems to be solved using Python:\n",
        "\n",
        "Q1) Accept input {x, y} from the keyboard. Print if this point lies within any of the rectangles in the given test data set. If yes then list the rectangles enclosing the given point in the format {rectangle_id, rectangle_id, rectangle_id, ... rectangle_id}. Eg: {1, 5, 8} implies that given point(x, y) is enclosed in the rectangles 1, 5 and 8.\n",
        "\n",
        "Q2) List of rectangles that don't overlap any other rectangles. The output should be in the format {rectangle_id, rectangle_id, rectangle_id, ... rectangle_id} \n",
        "\n",
        "Q3) List of rectangles that overlap with other rectangles in the format {{rectangle_id, list_of_rectangle_ids_which_are_overlapping_with_it}, {rectangle_id, list_of_rectangle_ids_which_are_overlapping_with_it}, ..... {rectangle_id, list_of_rectangle_ids_which_are_overlapping_with_it}}\n",
        "Eg: {{5, 7, 9, 12}, {6, 10, 12}} implies that rectangle 5 overlaps with rectangles 7, 9 and 12; rectangle 6 overlaps with rectangles 10 and 12.\n",
        "\n",
        "Q4) List of rectangles that contain other rectangles in the format {rectangle_id, list_of_rectangle_ids_which_are_contained_in}\n",
        "Eg: {{5, 2, 6}, {4, 3, 9}} implies that rectangle 5 contains rectangles 2 and 6; rectangle 4 contains rectangles 3 and 9.\n",
        "\n",
        "Q5) List the rectangles that are abutting each other in the following format {rectangle_id, which side_(e, w, n, s), rectangle_id_of_abutting_rectangle_id}\n",
        "Eg: {{5, n, 7}, {4, e, 3}} implies that rectangle 5 has rectangle 7 abutting it on the northern side, rectangle 4 has rectangle 3 abutting it on the eastern side.\n",
        "\n",
        "\n",
        "</p>\n"
      ]
    },
    {
      "cell_type": "code",
      "execution_count": 317,
      "metadata": {
        "id": "Dv9bN-n8t7yB"
      },
      "outputs": [],
      "source": [
        "#importing required Libraries\n",
        "import numpy as np\n",
        "import matplotlib.pyplot as plt\n",
        "import matplotlib\n",
        "import random"
      ]
    },
    {
      "cell_type": "code",
      "execution_count": 318,
      "metadata": {
        "id": "hYAFL1HcdX18"
      },
      "outputs": [],
      "source": [
        "#to create and return read_data which contains each rectangle as an object\n",
        "def create_read_data(d):\n",
        "  #creating an empty list for storing the instatianted rectangles\n",
        "  temp_data=[]\n",
        "  for i in range(len(d)):\n",
        "    temp_data.append(Rect(d[i]))\n",
        "  return temp_data"
      ]
    },
    {
      "cell_type": "code",
      "execution_count": 319,
      "metadata": {
        "id": "bDdMYuf6uU4R"
      },
      "outputs": [],
      "source": [
        "#Defining a function to read from the test case given\n",
        "\n",
        "def read_data(filename):\n",
        "\n",
        "  #opening the data file and reading as string\n",
        "  data=open(filename)\n",
        "  records=data.read()\n",
        "\n",
        "  #removing all the whitespaces to remove inconsistencies if any\n",
        "  records=records.replace(\" \",\"\")\n",
        "\n",
        "  #Remove the first and last brackets for uniform representation of the data\n",
        "  records=records[1:len(records)-3]\n",
        "\n",
        "  #Converting the string to a list with each element representing one rectangle\n",
        "  lines=records.split(',\\n')\n",
        "\n",
        "  #Converting each element string as a list of parameters of the rectangle\n",
        "  for i in range (len(lines)):\n",
        "    lines[i]=lines[i][1:len(lines[i])-1]\n",
        "    lines[i]=lines[i].replace( \", \",\",\")\n",
        "    lines[i]=lines[i].split(',')\n",
        "  \n",
        "  #Converting each parameter to interger type\n",
        "  for i in range(len(lines)):\n",
        "    for j in range(len(lines[i])):\n",
        "      lines[i][j]=int(lines[i][j])\n",
        "  \n",
        "  #to instantiate each rectangle\n",
        "  temp_data_1=create_read_data(lines)\n",
        "\n",
        "  return temp_data_1\n"
      ]
    },
    {
      "cell_type": "code",
      "execution_count": 320,
      "metadata": {
        "id": "AJkt-ZXP1yKy"
      },
      "outputs": [],
      "source": [
        "#defining a funtion to plot the rectangles\n",
        "def plot_rect(rect_data):\n",
        "  #plotting the rectangles\n",
        "  fig=plt.figure(figsize=(15,15))\n",
        "  ax=fig.add_subplot(111)\n",
        "\n",
        "  #plotting each rectangle using loop\n",
        "  for i in range(len(rect_data)):\n",
        "    ax.add_patch(rect_data[i].plot_rect())\n",
        "    ax.annotate(rect_data[i].label,(rect_data[i].label_parameters()) ,style='italic', weight='bold',color=rect_data[i].rgba_2 ,fontsize=10, ha='center',va='center')\n",
        "  \n",
        "  #to define the x,y limits of the plot\n",
        "  x,y=0,0\n",
        "  for i in range(len(rect_data)):\n",
        "    if (rect_data[i].TR_x>x):\n",
        "      x=rect_data[i].TR_x\n",
        "    if (rect_data[i].TR_y>y):\n",
        "      y=rect_data[i].TR_y\n",
        "  \n",
        "  plt.xlim([0,x+2])\n",
        "  plt.ylim([0,y+2])\n",
        "  #plt.grid()\n",
        "  plt.show()"
      ]
    },
    {
      "cell_type": "code",
      "execution_count": 321,
      "metadata": {
        "id": "JOoP1GaRhrzi"
      },
      "outputs": [],
      "source": [
        "#function that returns the ids of all the rectagles enclosing the given points\n",
        "def points_enclosing_rect(rect_data):\n",
        "  pe_rect=[]\n",
        "\n",
        "  #taking the point as input\n",
        "  point=()\n",
        "  point=(int(input(\"x coordinate: \")), int(input(\"y coordinate: \")))\n",
        "\n",
        "  #indiviually checking each rectangle with the given point\n",
        "  for i in range(len(rect_data)):\n",
        "    if (rect_data[i].point_enclosed(point)):\n",
        "      pe_rect.append(rect_data[i].label)\n",
        "  print(\"Rectangles containing the given point: \",pe_rect)\n"
      ]
    },
    {
      "cell_type": "code",
      "source": [
        "#function to list overlapping rectangles\n",
        "def overlapping_rect(rect_data):\n",
        "  master_list=[]\n",
        "  temp=rect_data[:]\n",
        "\n",
        "  for i in range(len(rect_data)):\n",
        "    temp2=[]\n",
        "    temp_r1=rect_data[i]\n",
        "    temp2.append(rect_data[i].label)\n",
        "\n",
        "    for j in range(len(rect_data)):\n",
        "\n",
        "      if (i==j):\n",
        "        continue\n",
        "      temp_r2=rect_data[j]\n",
        "      if not(temp_r1.BL_x>=temp_r2.TR_x or temp_r1.TR_x <= temp_r2.BL_x or temp_r1.BL_y>=temp_r2.TR_y or temp_r1.TR_y<=temp_r2.BL_y):\n",
        "        temp2.append(temp_r2.label)\n",
        "\n",
        "    master_list.append(temp2)\n",
        "  \n",
        "  #printing the obtained resulta\n",
        "  print (\"List of overlapping Rectangles: \")\n",
        "  for i in range(len(master_list)):\n",
        "    print(master_list[i])\n"
      ],
      "metadata": {
        "id": "_UpEFESaZZWg"
      },
      "execution_count": 322,
      "outputs": []
    },
    {
      "cell_type": "code",
      "execution_count": 323,
      "metadata": {
        "id": "44W0GatQjbii"
      },
      "outputs": [],
      "source": [
        "#returns all the rectagles that DO NOT overlap with any other rectangles\n",
        "def non_overlapping_rect(rect_data):\n",
        "  temp=rect_data[:]\n",
        "\n",
        "  # checking and removing the rectangles that overlap with other rectangles\n",
        "  for i in range(len(rect_data)):\n",
        "    temp1=rect_data[i]\n",
        "    for j in range(i+1,len(rect_data)):\n",
        "      temp2=rect_data[j]\n",
        "      if not(temp1.BL_x>=temp2.TR_x or temp1.TR_x <= temp2.BL_x or temp1.BL_y>=temp2.TR_y or temp1.TR_y<=temp2.BL_y):\n",
        "         if temp1 in temp:\n",
        "           temp.remove(temp1)\n",
        "         if temp2 in temp:\n",
        "           temp.remove(temp2)\n",
        "\n",
        "  # to return IDs of the remaining rectangles         \n",
        "  ol_rect=[]\n",
        "  for i in range(len(temp)):\n",
        "    ol_rect.append(temp[i].label)\n",
        "  print (\"Non-Overlapping rectangles:\",ol_rect)"
      ]
    },
    {
      "cell_type": "code",
      "source": [
        "#function to print rectagles contained \n",
        "def containing_rect(rect_data):\n",
        "  master_list=[]\n",
        "  temp=rect_data[:]\n",
        "\n",
        "  for i in range(len(rect_data)):\n",
        "    temp2=[]\n",
        "    temp_r1=rect_data[i]\n",
        "    temp2.append(rect_data[i].label)\n",
        "    for j in range(len(rect_data)):\n",
        "      if (i==j):\n",
        "        continue\n",
        "      temp_r2=rect_data[j]\n",
        "      if temp_r1.BL_x<=temp_r2.BL_x and temp_r1.BL_y<=temp_r2.BL_y and temp_r1.TR_x >= temp_r2.TR_x and temp_r1.TR_y>=temp_r2.TR_y:\n",
        "        temp2.append(temp_r2.label)\n",
        "    master_list.append(temp2)\n",
        "  \n",
        "  #printing the obtained list\n",
        "  print (\"List of Rectangles contained in other rectangles: \")\n",
        "  for i in range(len(master_list)):\n",
        "    print(master_list[i])\n"
      ],
      "metadata": {
        "id": "GBWhq1l8f1Kz"
      },
      "execution_count": 324,
      "outputs": []
    },
    {
      "cell_type": "code",
      "source": [
        "#function to print abutting rectangles\n",
        "def abutting_rect(rect_data):\n",
        "  master_list=[]\n",
        "  temp=rect_data[:]\n",
        "\n",
        "  for i in range(len(rect_data)):\n",
        "    temp_ml=[]\n",
        "    temp_r1=rect_data[i]\n",
        "\n",
        "    #definging lists for all direction\n",
        "    temp_n=list(\"n\")\n",
        "    temp_s=list(\"s\")\n",
        "    temp_e=list(\"e\")\n",
        "    temp_w=list(\"w\")\n",
        "\n",
        "    for j in range(len(rect_data)):\n",
        "      if (i==j):\n",
        "        continue\n",
        "      temp_r2=rect_data[j]\n",
        "      #checking for abutting rectangles in all direction\n",
        "\n",
        "      #West\n",
        "      if temp_r1.BL_x==temp_r2.TR_x and not(temp_r1.BL_y>temp_r2.TR_y or temp_r1.TR_y<temp_r2.BL_y):\n",
        "        temp_w.append(temp_r2.label)\n",
        "      #South\n",
        "      if temp_r1.BL_y==temp_r2.TR_y and not(temp_r1.BL_x>temp_r2.TR_x or temp_r1.TR_x<temp_r2.BL_x):\n",
        "        temp_s.append(temp_r2.label)\n",
        "      #East\n",
        "      if temp_r1.TR_x==temp_r2.BL_x and not(temp_r1.BL_y>temp_r2.TR_y or temp_r1.TR_y<temp_r2.BL_y):\n",
        "        temp_e.append(temp_r2.label)\n",
        "      #North\n",
        "      if temp_r1.TR_y==temp_r2.BL_y and not(temp_r1.BL_x>temp_r2.TR_x or temp_r1.TR_x<temp_r2.BL_x):\n",
        "        temp_n.append(temp_r2.label)\n",
        "\n",
        "    #appening obtained direction wise results\n",
        "    temp_ml.append(rect_data[i].label)\n",
        "    if len(temp_n)>1:\n",
        "      temp_ml.append(temp_n)\n",
        "    if len(temp_e)>1:\n",
        "      temp_ml.append(temp_e)\n",
        "    if len(temp_s)>1:\n",
        "      temp_ml.append(temp_s)\n",
        "    if len(temp_w)>1:\n",
        "      temp_ml.append(temp_w)\n",
        "    \n",
        "    #appening rectangles wise result\n",
        "    if len(temp_ml)>1:\n",
        "      master_list.append(temp_ml)\n",
        "\n",
        "  #printing the obtained list\n",
        "  print (\"Abutting Rectangles: \")\n",
        "  for i in range(len(master_list)):\n",
        "    print(master_list[i])\n"
      ],
      "metadata": {
        "id": "Jk4cJ8Epg381"
      },
      "execution_count": 325,
      "outputs": []
    },
    {
      "cell_type": "code",
      "execution_count": 326,
      "metadata": {
        "id": "HHVMr5vTgAMB"
      },
      "outputs": [],
      "source": [
        "#function to obtained results for all questions in one\n",
        "def auto(rect_data):\n",
        "  plot_rect(rect_data)\n",
        "  points_enclosing_rect(rect_data)\n",
        "  non_overlapping_rect(rect_data)\n",
        "  overlapping_rect(rect_data)\n",
        "  containing_rect(rect_data)\n",
        "  abutting_rect(rect_data)"
      ]
    },
    {
      "cell_type": "code",
      "execution_count": 327,
      "metadata": {
        "id": "TuO4zaQvaI98"
      },
      "outputs": [],
      "source": [
        "#defining a class claled as rect\n",
        "\n",
        "class Rect:\n",
        "  #the input to this class will be the list of parameters as taken from data\n",
        "  def __init__(self, data): \n",
        "    #distributing and seprately defing each attribute extracted from the list sent as input to the class\n",
        "    self.label= data[0]\n",
        "    self.BL_x=data[1]\n",
        "    self.BL_y=data[2]\n",
        "    self.TR_x=data[3]\n",
        "    self.TR_y=data[4]\n",
        "    self.wid=(self.TR_x-self.BL_x)\n",
        "    self.height=(self.TR_y-self.BL_y)\n",
        "    #genrating random colors to dislpay the rectangles and also label them\n",
        "    r = random.randint(0,255)\n",
        "    g = random.randint(0,255)\n",
        "    b = random.randint(0,255)\n",
        "    self.rgba = (r/255,g/255,b/255,0.25)\n",
        "    self.rgba_2= (r/255,g/255,b/255,1)\n",
        "\n",
        "\n",
        "  #defining the parameters needed to plot the rectangles\n",
        "  def plot_parameters(self):\n",
        "    parameters=[self.label, self.BL_x, self.BL_y,self.wid,self.height]\n",
        "    return parameters\n",
        "\n",
        "  #setting up and returning the parameters for plotting \n",
        "  def plot_rect(self):\n",
        "    rect_i=matplotlib.patches.Rectangle((self.BL_x,self.BL_y), self.wid, self.height,facecolor=(self.rgba), edgecolor=(self.rgba_2))\n",
        "    \n",
        "    return rect_i\n",
        "  \n",
        "  #setting up parameters for labelling the rectangles\n",
        "  def label_parameters(self):\n",
        "    x_cor=self.BL_x + (self.wid)/2\n",
        "    y_cor=self.BL_y+ (self.height)/2\n",
        "    par=(x_cor,y_cor)\n",
        "    return par\n",
        "\n",
        "  #to check if given point is enclosed by this rectangle\n",
        "  def point_enclosed(self,point):\n",
        "    return(((point[0]>=self.BL_x) and (point[0]<=self.TR_x)) and ((point[1]>=self.BL_y) and (point[1]<=self.TR_y)))\n",
        "  \n",
        "\n"
      ]
    },
    {
      "cell_type": "code",
      "source": [
        "#reading data from the .txt file\n",
        "rect_data=read_data('test_data(1).txt')\n",
        "#the data is stored in rect_data"
      ],
      "metadata": {
        "id": "eAcZ5jMB454W"
      },
      "execution_count": 328,
      "outputs": []
    },
    {
      "cell_type": "code",
      "source": [
        "plot_rect(rect_data)"
      ],
      "metadata": {
        "colab": {
          "base_uri": "https://localhost:8080/",
          "height": 863
        },
        "id": "qQjPecjK3F9B",
        "outputId": "491affb3-ecb0-42da-bd2b-5aa9fc480615"
      },
      "execution_count": 329,
      "outputs": [
        {
          "output_type": "display_data",
          "data": {
            "text/plain": [
              "<Figure size 1080x1080 with 1 Axes>"
            ],
            "image/png": "[encoded data removed]"
          },
          "metadata": {
            "needs_background": "light"
          }
        }
      ]
    },
    {
      "cell_type": "code",
      "source": [
        "#Question 1\n",
        "points_enclosing_rect(rect_data)"
      ],
      "metadata": {
        "colab": {
          "base_uri": "https://localhost:8080/"
        },
        "id": "2I21SJ323cC6",
        "outputId": "ed1e4ace-b691-402d-d2ec-ee7ab5ad48ed"
      },
      "execution_count": 330,
      "outputs": [
        {
          "output_type": "stream",
          "name": "stdout",
          "text": [
            "x coordinate: 6\n",
            "y coordinate: 8\n",
            "Rectangles containing the given point:  [4, 10]\n"
          ]
        }
      ]
    },
    {
      "cell_type": "code",
      "source": [
        "#Question 2\n",
        "non_overlapping_rect(rect_data)"
      ],
      "metadata": {
        "colab": {
          "base_uri": "https://localhost:8080/"
        },
        "id": "t-qvEuQK3KWc",
        "outputId": "ecf2dea2-d580-40a4-c3cf-ebb15287004d"
      },
      "execution_count": 331,
      "outputs": [
        {
          "output_type": "stream",
          "name": "stdout",
          "text": [
            "Non-Overlapping rectangles: [6]\n"
          ]
        }
      ]
    },
    {
      "cell_type": "code",
      "source": [
        "#Question 3\n",
        "overlapping_rect(rect_data)"
      ],
      "metadata": {
        "colab": {
          "base_uri": "https://localhost:8080/"
        },
        "id": "qlCfQsU23Npj",
        "outputId": "bc680349-b370-4bae-f5ae-6788bcdcff24"
      },
      "execution_count": 332,
      "outputs": [
        {
          "output_type": "stream",
          "name": "stdout",
          "text": [
            "List of overlapping Rectangles: \n",
            "[1, 3]\n",
            "[2, 3, 9]\n",
            "[3, 1, 2, 4, 9]\n",
            "[4, 3, 5, 10]\n",
            "[5, 4]\n",
            "[6]\n",
            "[7, 8]\n",
            "[8, 7]\n",
            "[9, 2, 3]\n",
            "[10, 4]\n"
          ]
        }
      ]
    },
    {
      "cell_type": "code",
      "source": [
        "#Question 4\n",
        "containing_rect(rect_data)"
      ],
      "metadata": {
        "colab": {
          "base_uri": "https://localhost:8080/"
        },
        "id": "750FFZFG3Qy8",
        "outputId": "52a6e5ba-e712-4b70-b6e3-df729f244c5d"
      },
      "execution_count": 333,
      "outputs": [
        {
          "output_type": "stream",
          "name": "stdout",
          "text": [
            "List of Rectangles contained in other rectangles: \n",
            "[1]\n",
            "[2]\n",
            "[3, 1, 2, 9]\n",
            "[4, 5]\n",
            "[5]\n",
            "[6]\n",
            "[7, 8]\n",
            "[8]\n",
            "[9]\n",
            "[10]\n"
          ]
        }
      ]
    },
    {
      "cell_type": "code",
      "source": [
        "#Question 5\n",
        "abutting_rect(rect_data)"
      ],
      "metadata": {
        "colab": {
          "base_uri": "https://localhost:8080/"
        },
        "id": "66WtoQ2W3TTC",
        "outputId": "5c73ae9d-e912-47b7-fd54-646ade3fbe49"
      },
      "execution_count": 334,
      "outputs": [
        {
          "output_type": "stream",
          "name": "stdout",
          "text": [
            "Abutting Rectangles: \n",
            "[2, ['e', 7]]\n",
            "[3, ['e', 7]]\n",
            "[4, ['e', 6]]\n",
            "[5, ['w', 10]]\n",
            "[6, ['n', 7], ['w', 4]]\n",
            "[7, ['s', 6], ['w', 2, 3]]\n",
            "[10, ['e', 5]]\n"
          ]
        }
      ]
    },
    {
      "cell_type": "code",
      "source": [
        "#to obtain individual results:\n",
        "\n",
        "#  To take a file as input:  read_data('filename.txt')\n",
        "#  For plotting: plot_rect(rect_data)\n",
        "#  For finfing rectangles that encloses the given point(you will be promted to input ponits):  points_enclosing_rect(rect_data)\n",
        "#  To obtain list of Rectngles that are not overlapping with any other retangles:  non_overlapping_rect(rect_data)\n",
        "#  To obtain list of rectangles and corresponing list of rectangles overlapping with it:  overlapping_rect(rect_data)\n",
        "#  To obtained list of rectangles and the rectangles contained in it:  containing_rect(rect_data)\n",
        "#  To obtain list of rectangles and rectangles abutting it with directions:  abutting_rect(rect_data)\n",
        "\n",
        "#  For plotting all the questions+plot together:  auto(rect_data)"
      ],
      "metadata": {
        "id": "jC7V-iou1cL1"
      },
      "execution_count": 335,
      "outputs": []
    }
  ],
  "metadata": {
    "colab": {
      "provenance": []
    },
    "kernelspec": {
      "display_name": "Python 3",
      "name": "python3"
    },
    "language_info": {
      "name": "python"
    }
  },
  "nbformat": 4,
  "nbformat_minor": 0
}