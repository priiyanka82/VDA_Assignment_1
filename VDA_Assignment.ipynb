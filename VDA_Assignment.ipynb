{
  "nbformat": 4,
  "nbformat_minor": 0,
  "metadata": {
    "colab": {
      "provenance": []
    },
    "kernelspec": {
      "name": "python3",
      "display_name": "Python 3"
    },
    "language_info": {
      "name": "python"
    }
  },
  "cells": [
    {
      "cell_type": "markdown",
      "source": [
        "<h1>EC704 VLSI Design Automation</h1>\n",
        "<h2>Assignment 1</h2>\n",
        "<h3>Submitted To:</h3>"
      ],
      "metadata": {
        "id": "PZ4Cl_lYtnTv"
      }
    },
    {
      "cell_type": "markdown",
      "source": [
        "<h3>Question</h3>\n",
        "<p>\n",
        "Given: An array of rectangles in the file test_data.txt.\n",
        "\n",
        "\n",
        "The following is the format of the representation of rectangle:\n",
        "\n",
        "{rectangle_id, left_bottom_corner_x_coordinate, left_bottom_corner_y_coordinate, right_top_corner_x_coordinate, right_top_corner_y_coordinate}. \n",
        "\n",
        "\n",
        "Develop python codes in modular fashion to perform the following functions:\n",
        "Read data corresponding to the rectangular objects from the file test_data.txt. Using matplotlib or any other suitable library plot the given objects in Jupyter IDE.\n",
        "\n",
        "Read the test data from a file \"test_data.txt\". Display the rectangle/s graphically in the Jupyter IDE. \n",
        "\n",
        "\n",
        "\n",
        "Problems to be solved using Python:\n",
        "\n",
        "Q1) Accept input {x, y} from the keyboard. Print if this point lies within any of the rectangles in the given test data set. If yes then list the rectangles enclosing the given point in the format {rectangle_id, rectangle_id, rectangle_id, ... rectangle_id}. Eg: {1, 5, 8} implies that given point(x, y) is enclosed in the rectangles 1, 5 and 8.\n",
        "\n",
        "Q2) List of rectangles that don't overlap any other rectangles. The output should be in the format {rectangle_id, rectangle_id, rectangle_id, ... rectangle_id} \n",
        "\n",
        "Q3) List of rectangles that overlap with other rectangles in the format {{rectangle_id, list_of_rectangle_ids_which_are_overlapping_with_it}, {rectangle_id, list_of_rectangle_ids_which_are_overlapping_with_it}, ..... {rectangle_id, list_of_rectangle_ids_which_are_overlapping_with_it}}\n",
        "Eg: {{5, 7, 9, 12}, {6, 10, 12}} implies that rectangle 5 overlaps with rectangles 7, 9 and 12; rectangle 6 overlaps with rectangles 10 and 12.\n",
        "\n",
        "Q4) List of rectangles that contain other rectangles in the format {rectangle_id, list_of_rectangle_ids_which_are_contained_in}\n",
        "Eg: {{5, 2, 6}, {4, 3, 9}} implies that rectangle 5 contains rectangles 2 and 6; rectangle 4 contains rectangles 3 and 9.\n",
        "\n",
        "Q5) List the rectangles that are abutting each other in the following format {rectangle_id, which side_(e, w, n, s), rectangle_id_of_abutting_rectangle_id}\n",
        "Eg: {{5, n, 7}, {4, e, 3}} implies that rectangle 5 has rectangle 7 abutting it on the northern side, rectangle 4 has rectangle 3 abutting it on the eastern side.\n",
        "\n",
        "\n",
        "</p>\n"
      ],
      "metadata": {
        "id": "ocbfUWRFt9xe"
      }
    },
    {
      "cell_type": "code",
      "source": [
        "#importing required Libraries\n",
        "import numpy as np\n",
        "import matplotlib.pyplot as plt\n",
        "from matplotlib.patches import Rectangle \n",
        "import random"
      ],
      "metadata": {
        "id": "Dv9bN-n8t7yB"
      },
      "execution_count": null,
      "outputs": []
    },
    {
      "cell_type": "code",
      "source": [
        "#Defining a function to read from the test case given\n",
        "\n",
        "def read_data(filename):\n",
        "\n",
        "  #opening the data file and reading as string\n",
        "  data=open(filename)\n",
        "  records=data.read()\n",
        "\n",
        "  #removing all the whitespaces to remove inconsistencies if any\n",
        "  records=records.replace(\" \",\"\")\n",
        "\n",
        "  #Remove the first and last brackets for uniform representation of the data\n",
        "  records=records[1:len(records)-3]\n",
        "\n",
        "  #Converting the string to a list with each element representing one rectangle\n",
        "  lines=records.split(',\\n')\n",
        "\n",
        "  #Converting each element string as a list of parameters of the rectangle\n",
        "  for i in range (len(lines)):\n",
        "    lines[i]=lines[i][1:len(lines[i])-1]\n",
        "    lines[i]=lines[i].replace( \", \",\",\")\n",
        "    lines[i]=lines[i].split(',')\n",
        "  \n",
        "  #Converting each parameter to interger type\n",
        "  for i in range(len(lines)):\n",
        "    for j in range(len(lines[i])):\n",
        "      lines[i][j]=int(lines[i][j])\n",
        "\n",
        "  return lines"
      ],
      "metadata": {
        "id": "bDdMYuf6uU4R"
      },
      "execution_count": null,
      "outputs": []
    },
    {
      "cell_type": "code",
      "source": [
        "#defining a funtion to plot the rectangles\n",
        "def plot_rect(rect_data):\n",
        "  #plotting the rectangles\n",
        "  fig=plt.figure(figsize=(15,15))\n",
        "  ax=fig.add_subplot(111)\n",
        "\n",
        "  #plotting each rectangle using loop\n",
        "  for i in range(len(rect_data)):\n",
        "    ax.add_patch(rect_data[i].plot_rect())\n",
        "    ax.annotate(rect_data[i].label,(rect_data[i].label_parameters()) ,style='italic', weight='bold',color=rect_data[i].rgba_2 ,fontsize=10, ha='center',va='center')\n",
        "  \n",
        "\n",
        "  plt.xlim([0,20])\n",
        "  plt.ylim([0,20])\n",
        "  #plt.grid()\n",
        "  plt.show()"
      ],
      "metadata": {
        "id": "AJkt-ZXP1yKy"
      },
      "execution_count": null,
      "outputs": []
    },
    {
      "cell_type": "code",
      "source": [
        "#defining a class claled as rect\n",
        "\n",
        "class rect:\n",
        "  #the input to this class will be the list of parameters as taken from data\n",
        "  def __init__(self, data): \n",
        "    #distributing and seprately defing each attribute extracted from the list sent as input to the class\n",
        "    self.label= data[0]\n",
        "    self.BL_x=data[1]\n",
        "    self.BL_y=data[2]\n",
        "    self.TR_x=data[3]\n",
        "    self.TR_y=data[4]\n",
        "    self.wid=(self.TR_x-self.BL_x)\n",
        "    self.height=(self.TR_y-self.BL_y)\n",
        "    #genrating random colors to dislpay the rectangles and also label them\n",
        "    r = random.randint(0,255)\n",
        "    g = random.randint(0,255)\n",
        "    b = random.randint(0,255)\n",
        "    self.rgba = (r/255,g/255,b/255,0.25)\n",
        "    self.rgba_2= (r/255,g/255,b/255,1)\n",
        "\n",
        "\n",
        "  #defining the parameters needed to plot the rectangles\n",
        "  def plot_parameters(self):\n",
        "    parameters=[self.label, self.BL_x, self.BL_y,self.wid,self.height]\n",
        "    return parameters\n",
        "\n",
        "  #setting up and returning the parameters for plotting \n",
        "  def plot_rect(self):\n",
        "    rect_i=matplotlib.patches.Rectangle((self.BL_x,self.BL_y), self.wid, self.height,facecolor=(self.rgba), edgecolor=(self.rgba_2))\n",
        "    \n",
        "    return rect_i\n",
        "  \n",
        "  #setting up parameters for labelling the rectangles\n",
        "  def label_parameters(self):\n",
        "    x_cor=self.BL_x + (self.wid)/2\n",
        "    y_cor=self.BL_y+ (self.height)/2\n",
        "    par=(x_cor,y_cor)\n",
        "    return par\n",
        "\n"
      ],
      "metadata": {
        "id": "TuO4zaQvaI98"
      },
      "execution_count": null,
      "outputs": []
    },
    {
      "cell_type": "code",
      "source": [
        "#reading data from the .txt file\n",
        "d=read_data('test_data.txt')\n",
        "\n",
        "#creating an empty list for storing the instatianted rectangles\n",
        "rect_data=[]\n",
        "for i in range(len(d)):\n",
        "  rect_data.append(rect(d[i]))\n",
        "\n",
        "#to plot rectangles\n",
        "plot_rect(rect_data)"
      ],
      "metadata": {
        "id": "hYAFL1HcdX18",
        "colab": {
          "base_uri": "https://localhost:8080/",
          "height": 867
        },
        "outputId": "f71e8f2c-9004-465e-fdae-6f5d3ebf7d9a"
      },
      "execution_count": null,
      "outputs": [
        {
          "output_type": "display_data",
          "data": {
            "text/plain": [
              "<Figure size 1080x1080 with 1 Axes>"
            ],
            "image/png": "[encoded data removed]"
          },
          "metadata": {
            "needs_background": "light"
          }
        }
      ]
    }
  ]
}